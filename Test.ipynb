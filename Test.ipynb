{
 "cells": [
  {
   "cell_type": "code",
   "execution_count": 125,
   "id": "bd37223b",
   "metadata": {},
   "outputs": [],
   "source": [
    "import pandas as pd \n",
    "import seaborn as sns \n",
    "import matplotlib.pyplot as plt\n",
    "import numpy as np"
   ]
  },
  {
   "cell_type": "code",
   "execution_count": 126,
   "id": "051f3304",
   "metadata": {},
   "outputs": [],
   "source": [
    "df=pd.read_csv(\"fraud.csv\")"
   ]
  },
  {
   "cell_type": "code",
   "execution_count": 3,
   "id": "ac9a225f",
   "metadata": {},
   "outputs": [
    {
     "data": {
      "text/html": [
       "<div>\n",
       "<style scoped>\n",
       "    .dataframe tbody tr th:only-of-type {\n",
       "        vertical-align: middle;\n",
       "    }\n",
       "\n",
       "    .dataframe tbody tr th {\n",
       "        vertical-align: top;\n",
       "    }\n",
       "\n",
       "    .dataframe thead th {\n",
       "        text-align: right;\n",
       "    }\n",
       "</style>\n",
       "<table border=\"1\" class=\"dataframe\">\n",
       "  <thead>\n",
       "    <tr style=\"text-align: right;\">\n",
       "      <th></th>\n",
       "      <th>step</th>\n",
       "      <th>type</th>\n",
       "      <th>amount</th>\n",
       "      <th>nameOrig</th>\n",
       "      <th>oldbalanceOrg</th>\n",
       "      <th>newbalanceOrig</th>\n",
       "      <th>nameDest</th>\n",
       "      <th>oldbalanceDest</th>\n",
       "      <th>newbalanceDest</th>\n",
       "      <th>isFraud</th>\n",
       "      <th>isFlaggedFraud</th>\n",
       "    </tr>\n",
       "  </thead>\n",
       "  <tbody>\n",
       "    <tr>\n",
       "      <th>0</th>\n",
       "      <td>1</td>\n",
       "      <td>PAYMENT</td>\n",
       "      <td>9839.64</td>\n",
       "      <td>C1231006815</td>\n",
       "      <td>170136.00</td>\n",
       "      <td>160296.36</td>\n",
       "      <td>M1979787155</td>\n",
       "      <td>0.0</td>\n",
       "      <td>0.00</td>\n",
       "      <td>0</td>\n",
       "      <td>0</td>\n",
       "    </tr>\n",
       "    <tr>\n",
       "      <th>1</th>\n",
       "      <td>1</td>\n",
       "      <td>PAYMENT</td>\n",
       "      <td>1864.28</td>\n",
       "      <td>C1666544295</td>\n",
       "      <td>21249.00</td>\n",
       "      <td>19384.72</td>\n",
       "      <td>M2044282225</td>\n",
       "      <td>0.0</td>\n",
       "      <td>0.00</td>\n",
       "      <td>0</td>\n",
       "      <td>0</td>\n",
       "    </tr>\n",
       "    <tr>\n",
       "      <th>2</th>\n",
       "      <td>1</td>\n",
       "      <td>TRANSFER</td>\n",
       "      <td>181.00</td>\n",
       "      <td>C1305486145</td>\n",
       "      <td>181.00</td>\n",
       "      <td>0.00</td>\n",
       "      <td>C553264065</td>\n",
       "      <td>0.0</td>\n",
       "      <td>0.00</td>\n",
       "      <td>1</td>\n",
       "      <td>0</td>\n",
       "    </tr>\n",
       "    <tr>\n",
       "      <th>3</th>\n",
       "      <td>1</td>\n",
       "      <td>CASH_OUT</td>\n",
       "      <td>181.00</td>\n",
       "      <td>C840083671</td>\n",
       "      <td>181.00</td>\n",
       "      <td>0.00</td>\n",
       "      <td>C38997010</td>\n",
       "      <td>21182.0</td>\n",
       "      <td>0.00</td>\n",
       "      <td>1</td>\n",
       "      <td>0</td>\n",
       "    </tr>\n",
       "    <tr>\n",
       "      <th>4</th>\n",
       "      <td>1</td>\n",
       "      <td>PAYMENT</td>\n",
       "      <td>11668.14</td>\n",
       "      <td>C2048537720</td>\n",
       "      <td>41554.00</td>\n",
       "      <td>29885.86</td>\n",
       "      <td>M1230701703</td>\n",
       "      <td>0.0</td>\n",
       "      <td>0.00</td>\n",
       "      <td>0</td>\n",
       "      <td>0</td>\n",
       "    </tr>\n",
       "    <tr>\n",
       "      <th>5</th>\n",
       "      <td>1</td>\n",
       "      <td>PAYMENT</td>\n",
       "      <td>7817.71</td>\n",
       "      <td>C90045638</td>\n",
       "      <td>53860.00</td>\n",
       "      <td>46042.29</td>\n",
       "      <td>M573487274</td>\n",
       "      <td>0.0</td>\n",
       "      <td>0.00</td>\n",
       "      <td>0</td>\n",
       "      <td>0</td>\n",
       "    </tr>\n",
       "    <tr>\n",
       "      <th>6</th>\n",
       "      <td>1</td>\n",
       "      <td>PAYMENT</td>\n",
       "      <td>7107.77</td>\n",
       "      <td>C154988899</td>\n",
       "      <td>183195.00</td>\n",
       "      <td>176087.23</td>\n",
       "      <td>M408069119</td>\n",
       "      <td>0.0</td>\n",
       "      <td>0.00</td>\n",
       "      <td>0</td>\n",
       "      <td>0</td>\n",
       "    </tr>\n",
       "    <tr>\n",
       "      <th>7</th>\n",
       "      <td>1</td>\n",
       "      <td>PAYMENT</td>\n",
       "      <td>7861.64</td>\n",
       "      <td>C1912850431</td>\n",
       "      <td>176087.23</td>\n",
       "      <td>168225.59</td>\n",
       "      <td>M633326333</td>\n",
       "      <td>0.0</td>\n",
       "      <td>0.00</td>\n",
       "      <td>0</td>\n",
       "      <td>0</td>\n",
       "    </tr>\n",
       "    <tr>\n",
       "      <th>8</th>\n",
       "      <td>1</td>\n",
       "      <td>PAYMENT</td>\n",
       "      <td>4024.36</td>\n",
       "      <td>C1265012928</td>\n",
       "      <td>2671.00</td>\n",
       "      <td>0.00</td>\n",
       "      <td>M1176932104</td>\n",
       "      <td>0.0</td>\n",
       "      <td>0.00</td>\n",
       "      <td>0</td>\n",
       "      <td>0</td>\n",
       "    </tr>\n",
       "    <tr>\n",
       "      <th>9</th>\n",
       "      <td>1</td>\n",
       "      <td>DEBIT</td>\n",
       "      <td>5337.77</td>\n",
       "      <td>C712410124</td>\n",
       "      <td>41720.00</td>\n",
       "      <td>36382.23</td>\n",
       "      <td>C195600860</td>\n",
       "      <td>41898.0</td>\n",
       "      <td>40348.79</td>\n",
       "      <td>0</td>\n",
       "      <td>0</td>\n",
       "    </tr>\n",
       "    <tr>\n",
       "      <th>10</th>\n",
       "      <td>1</td>\n",
       "      <td>DEBIT</td>\n",
       "      <td>9644.94</td>\n",
       "      <td>C1900366749</td>\n",
       "      <td>4465.00</td>\n",
       "      <td>0.00</td>\n",
       "      <td>C997608398</td>\n",
       "      <td>10845.0</td>\n",
       "      <td>157982.12</td>\n",
       "      <td>0</td>\n",
       "      <td>0</td>\n",
       "    </tr>\n",
       "    <tr>\n",
       "      <th>11</th>\n",
       "      <td>1</td>\n",
       "      <td>PAYMENT</td>\n",
       "      <td>3099.97</td>\n",
       "      <td>C249177573</td>\n",
       "      <td>20771.00</td>\n",
       "      <td>17671.03</td>\n",
       "      <td>M2096539129</td>\n",
       "      <td>0.0</td>\n",
       "      <td>0.00</td>\n",
       "      <td>0</td>\n",
       "      <td>0</td>\n",
       "    </tr>\n",
       "    <tr>\n",
       "      <th>12</th>\n",
       "      <td>1</td>\n",
       "      <td>PAYMENT</td>\n",
       "      <td>2560.74</td>\n",
       "      <td>C1648232591</td>\n",
       "      <td>5070.00</td>\n",
       "      <td>2509.26</td>\n",
       "      <td>M972865270</td>\n",
       "      <td>0.0</td>\n",
       "      <td>0.00</td>\n",
       "      <td>0</td>\n",
       "      <td>0</td>\n",
       "    </tr>\n",
       "    <tr>\n",
       "      <th>13</th>\n",
       "      <td>1</td>\n",
       "      <td>PAYMENT</td>\n",
       "      <td>11633.76</td>\n",
       "      <td>C1716932897</td>\n",
       "      <td>10127.00</td>\n",
       "      <td>0.00</td>\n",
       "      <td>M801569151</td>\n",
       "      <td>0.0</td>\n",
       "      <td>0.00</td>\n",
       "      <td>0</td>\n",
       "      <td>0</td>\n",
       "    </tr>\n",
       "    <tr>\n",
       "      <th>14</th>\n",
       "      <td>1</td>\n",
       "      <td>PAYMENT</td>\n",
       "      <td>4098.78</td>\n",
       "      <td>C1026483832</td>\n",
       "      <td>503264.00</td>\n",
       "      <td>499165.22</td>\n",
       "      <td>M1635378213</td>\n",
       "      <td>0.0</td>\n",
       "      <td>0.00</td>\n",
       "      <td>0</td>\n",
       "      <td>0</td>\n",
       "    </tr>\n",
       "    <tr>\n",
       "      <th>15</th>\n",
       "      <td>1</td>\n",
       "      <td>CASH_OUT</td>\n",
       "      <td>229133.94</td>\n",
       "      <td>C905080434</td>\n",
       "      <td>15325.00</td>\n",
       "      <td>0.00</td>\n",
       "      <td>C476402209</td>\n",
       "      <td>5083.0</td>\n",
       "      <td>51513.44</td>\n",
       "      <td>0</td>\n",
       "      <td>0</td>\n",
       "    </tr>\n",
       "    <tr>\n",
       "      <th>16</th>\n",
       "      <td>1</td>\n",
       "      <td>PAYMENT</td>\n",
       "      <td>1563.82</td>\n",
       "      <td>C761750706</td>\n",
       "      <td>450.00</td>\n",
       "      <td>0.00</td>\n",
       "      <td>M1731217984</td>\n",
       "      <td>0.0</td>\n",
       "      <td>0.00</td>\n",
       "      <td>0</td>\n",
       "      <td>0</td>\n",
       "    </tr>\n",
       "    <tr>\n",
       "      <th>17</th>\n",
       "      <td>1</td>\n",
       "      <td>PAYMENT</td>\n",
       "      <td>1157.86</td>\n",
       "      <td>C1237762639</td>\n",
       "      <td>21156.00</td>\n",
       "      <td>19998.14</td>\n",
       "      <td>M1877062907</td>\n",
       "      <td>0.0</td>\n",
       "      <td>0.00</td>\n",
       "      <td>0</td>\n",
       "      <td>0</td>\n",
       "    </tr>\n",
       "    <tr>\n",
       "      <th>18</th>\n",
       "      <td>1</td>\n",
       "      <td>PAYMENT</td>\n",
       "      <td>671.64</td>\n",
       "      <td>C2033524545</td>\n",
       "      <td>15123.00</td>\n",
       "      <td>14451.36</td>\n",
       "      <td>M473053293</td>\n",
       "      <td>0.0</td>\n",
       "      <td>0.00</td>\n",
       "      <td>0</td>\n",
       "      <td>0</td>\n",
       "    </tr>\n",
       "    <tr>\n",
       "      <th>19</th>\n",
       "      <td>1</td>\n",
       "      <td>TRANSFER</td>\n",
       "      <td>215310.30</td>\n",
       "      <td>C1670993182</td>\n",
       "      <td>705.00</td>\n",
       "      <td>0.00</td>\n",
       "      <td>C1100439041</td>\n",
       "      <td>22425.0</td>\n",
       "      <td>0.00</td>\n",
       "      <td>0</td>\n",
       "      <td>0</td>\n",
       "    </tr>\n",
       "  </tbody>\n",
       "</table>\n",
       "</div>"
      ],
      "text/plain": [
       "    step      type     amount     nameOrig  oldbalanceOrg  newbalanceOrig  \\\n",
       "0      1   PAYMENT    9839.64  C1231006815      170136.00       160296.36   \n",
       "1      1   PAYMENT    1864.28  C1666544295       21249.00        19384.72   \n",
       "2      1  TRANSFER     181.00  C1305486145         181.00            0.00   \n",
       "3      1  CASH_OUT     181.00   C840083671         181.00            0.00   \n",
       "4      1   PAYMENT   11668.14  C2048537720       41554.00        29885.86   \n",
       "5      1   PAYMENT    7817.71    C90045638       53860.00        46042.29   \n",
       "6      1   PAYMENT    7107.77   C154988899      183195.00       176087.23   \n",
       "7      1   PAYMENT    7861.64  C1912850431      176087.23       168225.59   \n",
       "8      1   PAYMENT    4024.36  C1265012928        2671.00            0.00   \n",
       "9      1     DEBIT    5337.77   C712410124       41720.00        36382.23   \n",
       "10     1     DEBIT    9644.94  C1900366749        4465.00            0.00   \n",
       "11     1   PAYMENT    3099.97   C249177573       20771.00        17671.03   \n",
       "12     1   PAYMENT    2560.74  C1648232591        5070.00         2509.26   \n",
       "13     1   PAYMENT   11633.76  C1716932897       10127.00            0.00   \n",
       "14     1   PAYMENT    4098.78  C1026483832      503264.00       499165.22   \n",
       "15     1  CASH_OUT  229133.94   C905080434       15325.00            0.00   \n",
       "16     1   PAYMENT    1563.82   C761750706         450.00            0.00   \n",
       "17     1   PAYMENT    1157.86  C1237762639       21156.00        19998.14   \n",
       "18     1   PAYMENT     671.64  C2033524545       15123.00        14451.36   \n",
       "19     1  TRANSFER  215310.30  C1670993182         705.00            0.00   \n",
       "\n",
       "       nameDest  oldbalanceDest  newbalanceDest  isFraud  isFlaggedFraud  \n",
       "0   M1979787155             0.0            0.00        0               0  \n",
       "1   M2044282225             0.0            0.00        0               0  \n",
       "2    C553264065             0.0            0.00        1               0  \n",
       "3     C38997010         21182.0            0.00        1               0  \n",
       "4   M1230701703             0.0            0.00        0               0  \n",
       "5    M573487274             0.0            0.00        0               0  \n",
       "6    M408069119             0.0            0.00        0               0  \n",
       "7    M633326333             0.0            0.00        0               0  \n",
       "8   M1176932104             0.0            0.00        0               0  \n",
       "9    C195600860         41898.0        40348.79        0               0  \n",
       "10   C997608398         10845.0       157982.12        0               0  \n",
       "11  M2096539129             0.0            0.00        0               0  \n",
       "12   M972865270             0.0            0.00        0               0  \n",
       "13   M801569151             0.0            0.00        0               0  \n",
       "14  M1635378213             0.0            0.00        0               0  \n",
       "15   C476402209          5083.0        51513.44        0               0  \n",
       "16  M1731217984             0.0            0.00        0               0  \n",
       "17  M1877062907             0.0            0.00        0               0  \n",
       "18   M473053293             0.0            0.00        0               0  \n",
       "19  C1100439041         22425.0            0.00        0               0  "
      ]
     },
     "execution_count": 3,
     "metadata": {},
     "output_type": "execute_result"
    }
   ],
   "source": [
    "df.head(20)"
   ]
  },
  {
   "cell_type": "code",
   "execution_count": 6,
   "id": "78658400",
   "metadata": {},
   "outputs": [
    {
     "data": {
      "text/plain": [
       "<AxesSubplot:>"
      ]
     },
     "execution_count": 6,
     "metadata": {},
     "output_type": "execute_result"
    },
    {
     "data": {
      "image/png": "[encoded data removed]",
      "text/plain": [
       "<Figure size 432x288 with 1 Axes>"
      ]
     },
     "metadata": {
      "needs_background": "light"
     },
     "output_type": "display_data"
    }
   ],
   "source": [
    "sns.heatmap(df.isnull(), cbar=False)\n"
   ]
  },
  {
   "cell_type": "code",
   "execution_count": 7,
   "id": "684dc219",
   "metadata": {},
   "outputs": [
    {
     "data": {
      "text/plain": [
       "step              False\n",
       "type              False\n",
       "amount            False\n",
       "nameOrig          False\n",
       "oldbalanceOrg     False\n",
       "newbalanceOrig    False\n",
       "nameDest          False\n",
       "oldbalanceDest    False\n",
       "newbalanceDest    False\n",
       "isFraud           False\n",
       "isFlaggedFraud    False\n",
       "dtype: bool"
      ]
     },
     "execution_count": 7,
     "metadata": {},
     "output_type": "execute_result"
    }
   ],
   "source": [
    "df.isnull().any()"
   ]
  },
  {
   "cell_type": "markdown",
   "id": "304aef1c",
   "metadata": {},
   "source": [
    "From the graph, it can be seen that there are no null values. "
   ]
  },
  {
   "cell_type": "code",
   "execution_count": 11,
   "id": "d64dc208",
   "metadata": {},
   "outputs": [
    {
     "data": {
      "image/png": "[encoded data removed]",
      "text/plain": [
       "<Figure size 432x288 with 1 Axes>"
      ]
     },
     "metadata": {
      "needs_background": "light"
     },
     "output_type": "display_data"
    }
   ],
   "source": [
    "var = df.groupby('type').amount.sum()\n",
    "fig = plt.figure()\n",
    "ax1 = fig.add_subplot(1,1,1)\n",
    "var.plot(kind='bar')\n",
    "\n",
    "ax1.set_title(\"Total amount per transaction type\")\n",
    "ax1.set_xlabel('Type of Transaction')\n",
    "ax1.set_ylabel('Amount');"
   ]
  },
  {
   "cell_type": "code",
   "execution_count": 9,
   "id": "4c120090",
   "metadata": {},
   "outputs": [],
   "source": [
    "#the above graph shows the modes which are most used"
   ]
  },
  {
   "cell_type": "code",
   "execution_count": 7,
   "id": "9711371c",
   "metadata": {},
   "outputs": [
    {
     "data": {
      "text/plain": [
       "array(['TRANSFER', 'CASH_OUT'], dtype=object)"
      ]
     },
     "execution_count": 7,
     "metadata": {},
     "output_type": "execute_result"
    }
   ],
   "source": [
    "df.loc[df.isFraud == 1].type.unique()"
   ]
  },
  {
   "cell_type": "code",
   "execution_count": 155,
   "id": "1e449420",
   "metadata": {},
   "outputs": [],
   "source": [
    "#The above output shows that all the frauds happens in the transfer and cash_out transactions."
   ]
  },
  {
   "cell_type": "code",
   "execution_count": 37,
   "id": "af24d88d",
   "metadata": {},
   "outputs": [],
   "source": [
    "#Now, we shall test the effectiveness of the system "
   ]
  },
  {
   "cell_type": "code",
   "execution_count": 8,
   "id": "ae8c6ff9",
   "metadata": {},
   "outputs": [],
   "source": [
    "fraud=df.loc[df.isFraud==1]\n",
    "nonfraud=df.loc[df.isFraud==0]"
   ]
  },
  {
   "cell_type": "code",
   "execution_count": 9,
   "id": "21858c46",
   "metadata": {},
   "outputs": [
    {
     "name": "stdout",
     "output_type": "stream",
     "text": [
      "Total number of fraud that took place: 8213\n",
      "Total number of fraud that did not take place: 6354407\n",
      "Total number of fraud that system was able to identify: 16\n"
     ]
    }
   ],
   "source": [
    "print(\"Total number of fraud that took place:\",(fraud.isFraud.count()))\n",
    "print(\"Total number of fraud that did not take place:\",(nonfraud.isFraud.count()))\n",
    "print(\"Total number of fraud that system was able to identify:\",(df.isFlaggedFraud.sum()))"
   ]
  },
  {
   "cell_type": "code",
   "execution_count": 95,
   "id": "56e65050",
   "metadata": {},
   "outputs": [
    {
     "name": "stdout",
     "output_type": "stream",
     "text": [
      "Sum of the amount in the fraud transcations: rupees 12056415427.839998\n"
     ]
    }
   ],
   "source": [
    "print(\"Sum of the amount in the fraud transcations: rupees\", (fraud.amount.sum()))"
   ]
  },
  {
   "cell_type": "code",
   "execution_count": 36,
   "id": "1a51ba62",
   "metadata": {},
   "outputs": [],
   "source": [
    "on = pd.get_dummies(df.isFraud)"
   ]
  },
  {
   "cell_type": "code",
   "execution_count": 37,
   "id": "58902236",
   "metadata": {},
   "outputs": [
    {
     "data": {
      "text/html": [
       "<div>\n",
       "<style scoped>\n",
       "    .dataframe tbody tr th:only-of-type {\n",
       "        vertical-align: middle;\n",
       "    }\n",
       "\n",
       "    .dataframe tbody tr th {\n",
       "        vertical-align: top;\n",
       "    }\n",
       "\n",
       "    .dataframe thead th {\n",
       "        text-align: right;\n",
       "    }\n",
       "</style>\n",
       "<table border=\"1\" class=\"dataframe\">\n",
       "  <thead>\n",
       "    <tr style=\"text-align: right;\">\n",
       "      <th></th>\n",
       "      <th>0</th>\n",
       "      <th>1</th>\n",
       "    </tr>\n",
       "  </thead>\n",
       "  <tbody>\n",
       "    <tr>\n",
       "      <th>0</th>\n",
       "      <td>1</td>\n",
       "      <td>0</td>\n",
       "    </tr>\n",
       "    <tr>\n",
       "      <th>1</th>\n",
       "      <td>1</td>\n",
       "      <td>0</td>\n",
       "    </tr>\n",
       "    <tr>\n",
       "      <th>2</th>\n",
       "      <td>0</td>\n",
       "      <td>1</td>\n",
       "    </tr>\n",
       "    <tr>\n",
       "      <th>3</th>\n",
       "      <td>0</td>\n",
       "      <td>1</td>\n",
       "    </tr>\n",
       "    <tr>\n",
       "      <th>4</th>\n",
       "      <td>1</td>\n",
       "      <td>0</td>\n",
       "    </tr>\n",
       "  </tbody>\n",
       "</table>\n",
       "</div>"
      ],
      "text/plain": [
       "   0  1\n",
       "0  1  0\n",
       "1  1  0\n",
       "2  0  1\n",
       "3  0  1\n",
       "4  1  0"
      ]
     },
     "execution_count": 37,
     "metadata": {},
     "output_type": "execute_result"
    }
   ],
   "source": [
    "on.head()"
   ]
  },
  {
   "cell_type": "code",
   "execution_count": 41,
   "id": "4c9615a8",
   "metadata": {},
   "outputs": [
    {
     "data": {
      "text/plain": [
       "0    6354407\n",
       "1       8213\n",
       "dtype: int64"
      ]
     },
     "execution_count": 41,
     "metadata": {},
     "output_type": "execute_result"
    }
   ],
   "source": [
    "on.sum()"
   ]
  },
  {
   "cell_type": "code",
   "execution_count": 62,
   "id": "46e1e823",
   "metadata": {},
   "outputs": [
    {
     "data": {
      "text/plain": [
       "<matplotlib.legend.Legend at 0x16b126ae760>"
      ]
     },
     "execution_count": 62,
     "metadata": {},
     "output_type": "execute_result"
    },
    {
     "data": {
      "image/png": "[encoded data removed]",
      "text/plain": [
       "<Figure size 432x288 with 1 Axes>"
      ]
     },
     "metadata": {},
     "output_type": "display_data"
    }
   ],
   "source": [
    "plt.pie(on.sum(),autopct='%1.1f%%')\n",
    "plt.legend(loc='upper right',labels=['Not Frauds','Frauds'])"
   ]
  },
  {
   "cell_type": "code",
   "execution_count": 49,
   "id": "1427b1f0",
   "metadata": {},
   "outputs": [],
   "source": [
    "#As we can see majority of the transactions are not fraud "
   ]
  },
  {
   "cell_type": "code",
   "execution_count": 50,
   "id": "842056ed",
   "metadata": {},
   "outputs": [],
   "source": [
    "data=[fraud.isFraud.count(),df.isFlaggedFraud.sum()]"
   ]
  },
  {
   "cell_type": "code",
   "execution_count": 61,
   "id": "edb83db8",
   "metadata": {},
   "outputs": [
    {
     "data": {
      "text/plain": [
       "<matplotlib.legend.Legend at 0x16b125ec9d0>"
      ]
     },
     "execution_count": 61,
     "metadata": {},
     "output_type": "execute_result"
    },
    {
     "data": {
      "image/png": "[encoded data removed]",
      "text/plain": [
       "<Figure size 432x288 with 1 Axes>"
      ]
     },
     "metadata": {},
     "output_type": "display_data"
    }
   ],
   "source": [
    "plt.pie(data,autopct='%1.1f%%')\n",
    "plt.legend(loc='upper right', labels=[\"total Frauds\",\"detected Frauds\"])"
   ]
  },
  {
   "cell_type": "code",
   "execution_count": 63,
   "id": "1c5ec580",
   "metadata": {},
   "outputs": [],
   "source": [
    "#As we can see only 0.2% of the frauds were able to be detected which is very low "
   ]
  },
  {
   "cell_type": "code",
   "execution_count": 106,
   "id": "4c7c2be5",
   "metadata": {},
   "outputs": [
    {
     "data": {
      "image/png": "[encoded data removed]",
      "text/plain": [
       "<Figure size 432x288 with 1 Axes>"
      ]
     },
     "metadata": {
      "needs_background": "light"
     },
     "output_type": "display_data"
    }
   ],
   "source": [
    "fig = plt.figure()\n",
    "ax = fig.add_subplot(1,1,1)\n",
    "ax.scatter(nonfraud['oldbalanceOrg'],nonfraud['amount'],c='g')\n",
    "ax.scatter(fraud['oldbalanceOrg'],fraud['amount'],c='r')\n",
    "\n",
    "\n",
    "\n",
    "plt.show()"
   ]
  },
  {
   "cell_type": "code",
   "execution_count": 107,
   "id": "c9a43c95",
   "metadata": {},
   "outputs": [
    {
     "data": {
      "image/png": "[encoded data removed]",
      "text/plain": [
       "<Figure size 432x288 with 1 Axes>"
      ]
     },
     "metadata": {
      "needs_background": "light"
     },
     "output_type": "display_data"
    }
   ],
   "source": [
    "fig = plt.figure()\n",
    "ax = fig.add_subplot(1,1,1)\n",
    "ax.scatter(nonfraud['newbalanceOrig'],nonfraud['amount'],c='g')\n",
    "ax.scatter(fraud['newbalanceOrig'],fraud['amount'],c='r')\n",
    "plt.show()\n"
   ]
  },
  {
   "cell_type": "code",
   "execution_count": 98,
   "id": "b925552e",
   "metadata": {},
   "outputs": [
    {
     "data": {
      "image/png": "[encoded data removed]",
      "text/plain": [
       "<Figure size 432x288 with 1 Axes>"
      ]
     },
     "metadata": {
      "needs_background": "light"
     },
     "output_type": "display_data"
    }
   ],
   "source": [
    "fig = plt.figure()\n",
    "ax = fig.add_subplot(1,1,1)\n",
    "ax.scatter(nonfraud['oldbalanceDest'],nonfraud['amount'],c='g')\n",
    "ax.scatter(fraud['oldbalanceDest'],fraud['amount'],c='r')\n",
    "plt.show()"
   ]
  },
  {
   "cell_type": "code",
   "execution_count": 156,
   "id": "d5ace4c5",
   "metadata": {},
   "outputs": [],
   "source": [
    "#most of the fraud are happenning from 0 to 1 crore"
   ]
  },
  {
   "cell_type": "code",
   "execution_count": 103,
   "id": "2fcfc8bf",
   "metadata": {},
   "outputs": [
    {
     "data": {
      "image/png": "[encoded data removed]",
      "text/plain": [
       "<Figure size 432x288 with 1 Axes>"
      ]
     },
     "metadata": {
      "needs_background": "light"
     },
     "output_type": "display_data"
    }
   ],
   "source": [
    "fig = plt.figure()\n",
    "ax = fig.add_subplot(1,1,1)\n",
    "ax.scatter(nonfraud['newbalanceDest'],nonfraud['amount'],c='g')\n",
    "ax.scatter(fraud['newbalanceDest'],fraud['amount'],c='r')\n",
    "plt.show()"
   ]
  },
  {
   "cell_type": "markdown",
   "id": "360f21a7",
   "metadata": {},
   "source": [
    "from the graphs we could figure out that most of the frauds are happening up to 1 crore and therefore we can increase the threeshold for \n",
    "we can increase the efficeny of the graph isFlaggedfraud"
   ]
  },
  {
   "cell_type": "code",
   "execution_count": 108,
   "id": "2d930756",
   "metadata": {},
   "outputs": [],
   "source": [
    "df = df.replace(to_replace={'PAYMENT':1,'TRANSFER':2,'CASH_OUT':3,\n",
    "                                            'CASH_IN':4,'DEBIT':5,'No':0,'Yes':1})"
   ]
  },
  {
   "cell_type": "code",
   "execution_count": 110,
   "id": "8997d8c7",
   "metadata": {},
   "outputs": [],
   "source": [
    "df.drop(['nameOrig','nameDest','isFlaggedFraud'],axis=1,inplace=True)"
   ]
  },
  {
   "cell_type": "code",
   "execution_count": 112,
   "id": "53d67e11",
   "metadata": {},
   "outputs": [],
   "source": [
    "X = df.drop(['isFraud'],axis=1)\n",
    "y = df[['isFraud']]"
   ]
  },
  {
   "cell_type": "code",
   "execution_count": 113,
   "id": "54bad7f5",
   "metadata": {},
   "outputs": [],
   "source": [
    "from sklearn.model_selection import train_test_split\n",
    "train_X, test_X, train_y, test_y = train_test_split(X, y, test_size = 0.2, random_state = 121)"
   ]
  },
  {
   "cell_type": "code",
   "execution_count": 114,
   "id": "7b7561ed",
   "metadata": {},
   "outputs": [
    {
     "name": "stdout",
     "output_type": "stream",
     "text": [
      "0.768584323786009\n"
     ]
    }
   ],
   "source": [
    "from sklearn.ensemble import RandomForestClassifier\n",
    "clf = RandomForestClassifier(n_estimators=15)\n",
    "\n",
    "if True:\n",
    "    probabilities = clf.fit(train_X, train_y.values.ravel()).predict(test_X)\n",
    "    \n",
    "from sklearn.metrics import average_precision_score\n",
    "if True:\n",
    "    print(average_precision_score(test_y,probabilities))"
   ]
  },
  {
   "cell_type": "code",
   "execution_count": 116,
   "id": "162c75c3",
   "metadata": {},
   "outputs": [
    {
     "name": "stderr",
     "output_type": "stream",
     "text": [
      "D:\\Anaconda\\lib\\site-packages\\seaborn\\_decorators.py:36: FutureWarning: Pass the following variable as a keyword arg: x. From version 0.12, the only valid positional argument will be `data`, and passing other arguments without an explicit keyword will result in an error or misinterpretation.\n",
      "  warnings.warn(\n"
     ]
    },
    {
     "data": {
      "text/plain": [
       "<AxesSubplot:xlabel='oldbalanceDest'>"
      ]
     },
     "execution_count": 116,
     "metadata": {},
     "output_type": "execute_result"
    },
    {
     "data": {
      "image/png": "[encoded data removed]",
      "text/plain": [
       "<Figure size 432x288 with 1 Axes>"
      ]
     },
     "metadata": {
      "needs_background": "light"
     },
     "output_type": "display_data"
    }
   ],
   "source": [
    "sns.boxplot(df['oldbalanceDest'])"
   ]
  },
  {
   "cell_type": "code",
   "execution_count": 118,
   "id": "2bbeb7ac",
   "metadata": {},
   "outputs": [
    {
     "name": "stderr",
     "output_type": "stream",
     "text": [
      "D:\\Anaconda\\lib\\site-packages\\seaborn\\_decorators.py:36: FutureWarning: Pass the following variable as a keyword arg: x. From version 0.12, the only valid positional argument will be `data`, and passing other arguments without an explicit keyword will result in an error or misinterpretation.\n",
      "  warnings.warn(\n"
     ]
    },
    {
     "data": {
      "text/plain": [
       "<AxesSubplot:xlabel='newbalanceDest'>"
      ]
     },
     "execution_count": 118,
     "metadata": {},
     "output_type": "execute_result"
    },
    {
     "data": {
      "image/png": "[encoded data removed]",
      "text/plain": [
       "<Figure size 432x288 with 1 Axes>"
      ]
     },
     "metadata": {
      "needs_background": "light"
     },
     "output_type": "display_data"
    }
   ],
   "source": [
    "sns.boxplot(df['newbalanceDest'])"
   ]
  },
  {
   "cell_type": "code",
   "execution_count": 119,
   "id": "b53c3807",
   "metadata": {},
   "outputs": [
    {
     "name": "stderr",
     "output_type": "stream",
     "text": [
      "D:\\Anaconda\\lib\\site-packages\\seaborn\\_decorators.py:36: FutureWarning: Pass the following variable as a keyword arg: x. From version 0.12, the only valid positional argument will be `data`, and passing other arguments without an explicit keyword will result in an error or misinterpretation.\n",
      "  warnings.warn(\n"
     ]
    },
    {
     "data": {
      "text/plain": [
       "<AxesSubplot:xlabel='oldbalanceOrg'>"
      ]
     },
     "execution_count": 119,
     "metadata": {},
     "output_type": "execute_result"
    },
    {
     "data": {
      "image/png": "[encoded data removed]",
      "text/plain": [
       "<Figure size 432x288 with 1 Axes>"
      ]
     },
     "metadata": {
      "needs_background": "light"
     },
     "output_type": "display_data"
    }
   ],
   "source": [
    "sns.boxplot(df['oldbalanceOrg'])"
   ]
  },
  {
   "cell_type": "code",
   "execution_count": 122,
   "id": "8d943bae",
   "metadata": {},
   "outputs": [
    {
     "name": "stderr",
     "output_type": "stream",
     "text": [
      "D:\\Anaconda\\lib\\site-packages\\seaborn\\_decorators.py:36: FutureWarning: Pass the following variable as a keyword arg: x. From version 0.12, the only valid positional argument will be `data`, and passing other arguments without an explicit keyword will result in an error or misinterpretation.\n",
      "  warnings.warn(\n"
     ]
    },
    {
     "data": {
      "text/plain": [
       "<AxesSubplot:xlabel='newbalanceOrig'>"
      ]
     },
     "execution_count": 122,
     "metadata": {},
     "output_type": "execute_result"
    },
    {
     "data": {
      "image/png": "[encoded data removed]",
      "text/plain": [
       "<Figure size 432x288 with 1 Axes>"
      ]
     },
     "metadata": {
      "needs_background": "light"
     },
     "output_type": "display_data"
    }
   ],
   "source": [
    "sns.boxplot(df['newbalanceOrig'])"
   ]
  },
  {
   "cell_type": "code",
   "execution_count": 140,
   "id": "db96d50b",
   "metadata": {},
   "outputs": [],
   "source": [
    "#Removing outliers\n",
    "new_df = df[(df['newbalanceOrig'] < 40000000) & (df['oldbalanceOrg'] < 40000000) & (df['newbalanceDest'] < 200000000) & (df['oldbalanceDest'] < 220000000)]"
   ]
  },
  {
   "cell_type": "code",
   "execution_count": 141,
   "id": "9edb25a3",
   "metadata": {},
   "outputs": [
    {
     "name": "stdout",
     "output_type": "stream",
     "text": [
      "0.778588809108321\n"
     ]
    }
   ],
   "source": [
    "new_df = new_df.replace(to_replace={'PAYMENT':1,'TRANSFER':2,'CASH_OUT':3,\n",
    "                                            'CASH_IN':4,'DEBIT':5,'No':0,'Yes':1})\n",
    "\n",
    "new_df.drop(['nameOrig','nameDest','isFlaggedFraud'],axis=1,inplace=True)\n",
    "\n",
    "X = new_df.drop(['isFraud'],axis=1)\n",
    "y = new_df[['isFraud']]\n",
    "\n",
    "from sklearn.model_selection import train_test_split\n",
    "train_X, test_X, train_y, test_y = train_test_split(X, y, test_size = 0.2, random_state = 121)\n",
    "\n",
    "from sklearn.ensemble import RandomForestClassifier\n",
    "clf = RandomForestClassifier(n_estimators=15)\n",
    "\n",
    "if True:\n",
    "    probabilities = clf.fit(train_X, train_y.values.ravel()).predict(test_X)\n",
    "    \n",
    "from sklearn.metrics import average_precision_score\n",
    "if True:\n",
    "    print(average_precision_score(test_y,probabilities))"
   ]
  }
 ],
 "metadata": {
  "kernelspec": {
   "display_name": "Python 3 (ipykernel)",
   "language": "python",
   "name": "python3"
  },
  "language_info": {
   "codemirror_mode": {
    "name": "ipython",
    "version": 3
   },
   "file_extension": ".py",
   "mimetype": "text/x-python",
   "name": "python",
   "nbconvert_exporter": "python",
   "pygments_lexer": "ipython3",
   "version": "3.9.12"
  }
 },
 "nbformat": 4,
 "nbformat_minor": 5
}
